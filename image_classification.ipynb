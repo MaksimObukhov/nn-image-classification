{
 "cells": [
  {
   "cell_type": "code",
   "execution_count": 163,
   "outputs": [
    {
     "output_type": "stream",
     "name": "stdout",
     "text": [
      "Once deleted, variables cannot be recovered. Proceed (y/[n])? \n",
      "Nothing done.\n"
     ]
    }
   ],
   "source": [
    "%reset"
   ],
   "metadata": {
    "ExecuteTime": {
     "end_time": "2024-04-01T10:02:20.513145Z",
     "start_time": "2024-04-01T10:02:19.156990Z"
    },
    "colab": {
     "base_uri": "https://localhost:8080/"
    },
    "id": "f2db568888ac272c",
    "outputId": "a7e5f4a6-f60c-45b0-ecc0-adcb6e87cbbc"
   },
   "id": "f2db568888ac272c"
  },
  {
   "cell_type": "code",
   "execution_count": 164,
   "outputs": [],
   "source": [
    "from tensorflow.keras.datasets import cifar10\n",
    "from tensorflow.keras.utils import to_categorical\n",
    "from tensorflow.keras import layers\n",
    "from tensorflow import keras\n",
    "import tensorflow as tf\n",
    "\n",
    "# Train 50k, test 10k\n",
    "(train_images, train_labels), (test_images, test_labels) = cifar10.load_data()\n"
   ],
   "metadata": {
    "ExecuteTime": {
     "end_time": "2024-04-01T10:02:20.769451Z",
     "start_time": "2024-04-01T10:02:20.515088Z"
    },
    "id": "7878828576c09f03"
   },
   "id": "7878828576c09f03"
  },
  {
   "cell_type": "markdown",
   "source": [
    "Class encoding:\n",
    "0 - airplane\n",
    "1 - automobile\n",
    "2 - bird\n",
    "3 - cat\n",
    "4 - deer\n",
    "5 - dog\n",
    "6 - frog\n",
    "7 - horse\n",
    "8 - ship\n",
    "9 - truck"
   ],
   "metadata": {
    "collapsed": false,
    "id": "ed926fdef863fc53"
   },
   "id": "ed926fdef863fc53"
  },
  {
   "cell_type": "code",
   "execution_count": 165,
   "outputs": [],
   "source": [
    "# Split training data into training and validation sets\n",
    "num_validation_samples = int(0.2 * train_images.shape[0])  # 20% of the training dataset (40k:10k)\n",
    "\n",
    "val_images = train_images[:num_validation_samples]\n",
    "val_labels = train_labels[:num_validation_samples]\n",
    "\n",
    "train_images = train_images[num_validation_samples:]\n",
    "train_labels = train_labels[num_validation_samples:]\n",
    "\n",
    "# One-hot label encoding (10 labels)\n",
    "train_labels = to_categorical(train_labels)\n",
    "val_labels = to_categorical(val_labels)\n",
    "test_labels = to_categorical(test_labels)\n"
   ],
   "metadata": {
    "ExecuteTime": {
     "end_time": "2024-04-01T10:02:20.943772Z",
     "start_time": "2024-04-01T10:02:20.770313Z"
    },
    "id": "77b38dae818a0b1e"
   },
   "id": "77b38dae818a0b1e"
  },
  {
   "cell_type": "code",
   "execution_count": 166,
   "outputs": [],
   "source": [
    "# Create tf.data.Dataset objects\n",
    "AUTOTUNE = tf.data.AUTOTUNE\n",
    "batch_size = 32\n",
    "\n",
    "train_dataset = tf.data.Dataset.from_tensor_slices((train_images, train_labels))\n",
    "val_dataset = tf.data.Dataset.from_tensor_slices((val_images, val_labels))\n",
    "test_dataset = tf.data.Dataset.from_tensor_slices((test_images, test_labels))\n",
    "\n",
    "train_dataset = (\n",
    "    train_dataset\n",
    "    .shuffle(10000)\n",
    "    .batch(batch_size)\n",
    "    .prefetch(AUTOTUNE)\n",
    ")\n",
    "\n",
    "val_dataset = (\n",
    "    val_dataset\n",
    "    .batch(batch_size)\n",
    "    .prefetch(AUTOTUNE)\n",
    ")\n",
    "\n",
    "test_dataset = (\n",
    "    test_dataset\n",
    "    .batch(batch_size)\n",
    "    .prefetch(AUTOTUNE)\n",
    ")\n"
   ],
   "metadata": {
    "ExecuteTime": {
     "end_time": "2024-04-01T10:02:22.758372Z",
     "start_time": "2024-04-01T10:02:20.945334Z"
    },
    "id": "83264078e107bc5a"
   },
   "id": "83264078e107bc5a"
  },
  {
   "cell_type": "code",
   "execution_count": 167,
   "outputs": [],
   "source": [
    "data_augmentation = keras.Sequential(\n",
    "    [\n",
    "        layers.RandomFlip(\"horizontal\"),\n",
    "        layers.RandomRotation(0.1),\n",
    "        layers.RandomZoom(0.1),\n",
    "    ]\n",
    ")"
   ],
   "metadata": {
    "ExecuteTime": {
     "end_time": "2024-04-01T10:08:58.856244Z",
     "start_time": "2024-04-01T10:08:58.848351Z"
    },
    "id": "389852d3e82c70f4"
   },
   "id": "389852d3e82c70f4"
  },
  {
   "cell_type": "markdown",
   "source": [
    "## My attempts"
   ],
   "metadata": {
    "collapsed": false
   },
   "id": "e8b2266d39376bc3"
  },
  {
   "cell_type": "code",
   "execution_count": 168,
   "outputs": [
    {
     "output_type": "stream",
     "name": "stdout",
     "text": [
      "Model: \"model_19\"\n",
      "_________________________________________________________________\n",
      " Layer (type)                Output Shape              Param #   \n",
      "=================================================================\n",
      " input_23 (InputLayer)       [(None, 32, 32, 3)]       0         \n",
      "                                                                 \n",
      " sequential_18 (Sequential)  (None, 32, 32, 3)         0         \n",
      "                                                                 \n",
      " rescaling_17 (Rescaling)    (None, 32, 32, 3)         0         \n",
      "                                                                 \n",
      " conv2d_67 (Conv2D)          (None, 30, 30, 32)        896       \n",
      "                                                                 \n",
      " max_pooling2d_46 (MaxPooli  (None, 15, 15, 32)        0         \n",
      " ng2D)                                                           \n",
      "                                                                 \n",
      " conv2d_68 (Conv2D)          (None, 13, 13, 64)        18496     \n",
      "                                                                 \n",
      " max_pooling2d_47 (MaxPooli  (None, 6, 6, 64)          0         \n",
      " ng2D)                                                           \n",
      "                                                                 \n",
      " conv2d_69 (Conv2D)          (None, 4, 4, 128)         73856     \n",
      "                                                                 \n",
      " flatten_19 (Flatten)        (None, 2048)              0         \n",
      "                                                                 \n",
      " dropout_11 (Dropout)        (None, 2048)              0         \n",
      "                                                                 \n",
      " dense_19 (Dense)            (None, 10)                20490     \n",
      "                                                                 \n",
      "=================================================================\n",
      "Total params: 113738 (444.29 KB)\n",
      "Trainable params: 113738 (444.29 KB)\n",
      "Non-trainable params: 0 (0.00 Byte)\n",
      "_________________________________________________________________\n"
     ]
    }
   ],
   "source": [
    "# inputs = keras.Input(shape=(32, 32, 3))\n",
    "# \n",
    "# x = data_augmentation(inputs)\n",
    "# \n",
    "# # Normalize pixel values to be between 0 and 1\n",
    "# x = layers.Rescaling(1./255)(x)\n",
    "# \n",
    "# x = layers.Conv2D(filters=32, kernel_size=3, activation=\"relu\")(x)\n",
    "# x = layers.MaxPooling2D(pool_size=2)(x)\n",
    "# \n",
    "# x = layers.Conv2D(filters=64, kernel_size=3, activation=\"relu\")(x)\n",
    "# x = layers.MaxPooling2D(pool_size=2)(x)\n",
    "# \n",
    "# x = layers.Conv2D(filters=128, kernel_size=3, activation=\"relu\")(x)\n",
    "# \n",
    "# x = layers.Flatten()(x)\n",
    "# x = layers.Dropout(0.25)(x)\n",
    "# outputs = layers.Dense(10, activation=\"softmax\")(x)\n",
    "# \n",
    "# model = keras.Model(inputs=inputs, outputs=outputs)\n",
    "# \n",
    "# model.summary()\n",
    "# \n",
    "# model.compile(loss=\"categorical_crossentropy\",\n",
    "#               optimizer=\"adam\",\n",
    "#               metrics=[\"accuracy\"])"
   ],
   "metadata": {
    "ExecuteTime": {
     "end_time": "2024-04-01T10:08:59.906839Z",
     "start_time": "2024-04-01T10:08:59.492176Z"
    },
    "colab": {
     "base_uri": "https://localhost:8080/"
    },
    "id": "6aef7f9a3cfbe71e",
    "outputId": "783488bb-fb9b-40fd-b016-a2db0e1e2474"
   },
   "id": "6aef7f9a3cfbe71e"
  },
  {
   "cell_type": "markdown",
   "source": [
    "## From web, 80% accuracy"
   ],
   "metadata": {
    "collapsed": false
   },
   "id": "a7e6a2b8afeb5107"
  },
  {
   "cell_type": "code",
   "source": [
    "inputs = keras.Input(shape=(32, 32, 3)) # Updated for grayscale images\n",
    "\n",
    "x = data_augmentation(inputs)\n",
    "\n",
    "# Normalize pixel values to be between 0 and 1\n",
    "x = layers.Rescaling(1./255)(x)\n",
    "\n",
    "x = layers.Conv2D(filters=32, kernel_size=(3, 3), padding='same', activation='relu')(x)\n",
    "x = layers.BatchNormalization()(x)\n",
    "x = layers.Conv2D(filters=32, kernel_size=(3, 3), padding='same', activation='relu')(x)\n",
    "x = layers.BatchNormalization()(x)\n",
    "x = layers.MaxPooling2D(pool_size=(2, 2))(x)\n",
    "x = layers.Dropout(0.2)(x)\n",
    "\n",
    "# Second conv block\n",
    "x = layers.Conv2D(filters=64, kernel_size=(3, 3), padding='same', activation='relu')(x)\n",
    "x = layers.BatchNormalization()(x)\n",
    "x = layers.Conv2D(filters=64, kernel_size=(3, 3), padding='same', activation='relu')(x)\n",
    "x = layers.BatchNormalization()(x)\n",
    "x = layers.MaxPooling2D(pool_size=(2, 2))(x)\n",
    "x = layers.Dropout(0.3)(x)\n",
    "\n",
    "# Third conv block\n",
    "x = layers.Conv2D(filters=128, kernel_size=(3, 3), padding='same', activation='relu')(x)\n",
    "x = layers.BatchNormalization()(x)\n",
    "x = layers.Conv2D(filters=128, kernel_size=(3, 3), padding='same', activation='relu')(x)\n",
    "x = layers.BatchNormalization()(x)\n",
    "x = layers.MaxPooling2D(pool_size=(2, 2))(x)\n",
    "x = layers.Dropout(0.4)(x)\n",
    "\n",
    "# Fully connected layer\n",
    "x = layers.Flatten()(x)\n",
    "x = layers.Dense(128, activation='relu')(x)\n",
    "x = layers.Dropout(0.5)(x)\n",
    "outputs = layers.Dense(10, activation='softmax')(x)\n",
    "\n",
    "model = keras.Model(inputs=inputs, outputs=outputs)\n",
    "\n",
    "model.summary()\n",
    "\n",
    "model.compile(loss=\"categorical_crossentropy\",\n",
    "              optimizer=\"adam\",\n",
    "              metrics=[\"accuracy\"])"
   ],
   "metadata": {
    "colab": {
     "base_uri": "https://localhost:8080/"
    },
    "id": "YadFsMDlY9oE",
    "outputId": "e3c29422-e138-4f55-e98a-1572259c7156"
   },
   "id": "YadFsMDlY9oE",
   "execution_count": 170,
   "outputs": [
    {
     "output_type": "stream",
     "name": "stdout",
     "text": [
      "Model: \"model_20\"\n",
      "_________________________________________________________________\n",
      " Layer (type)                Output Shape              Param #   \n",
      "=================================================================\n",
      " input_24 (InputLayer)       [(None, 32, 32, 3)]       0         \n",
      "                                                                 \n",
      " sequential_18 (Sequential)  (None, 32, 32, 3)         0         \n",
      "                                                                 \n",
      " rescaling_18 (Rescaling)    (None, 32, 32, 3)         0         \n",
      "                                                                 \n",
      " conv2d_70 (Conv2D)          (None, 32, 32, 32)        896       \n",
      "                                                                 \n",
      " batch_normalization (Batch  (None, 32, 32, 32)        128       \n",
      " Normalization)                                                  \n",
      "                                                                 \n",
      " conv2d_71 (Conv2D)          (None, 32, 32, 32)        9248      \n",
      "                                                                 \n",
      " batch_normalization_1 (Bat  (None, 32, 32, 32)        128       \n",
      " chNormalization)                                                \n",
      "                                                                 \n",
      " max_pooling2d_48 (MaxPooli  (None, 16, 16, 32)        0         \n",
      " ng2D)                                                           \n",
      "                                                                 \n",
      " dropout_12 (Dropout)        (None, 16, 16, 32)        0         \n",
      "                                                                 \n",
      " conv2d_72 (Conv2D)          (None, 16, 16, 64)        18496     \n",
      "                                                                 \n",
      " batch_normalization_2 (Bat  (None, 16, 16, 64)        256       \n",
      " chNormalization)                                                \n",
      "                                                                 \n",
      " conv2d_73 (Conv2D)          (None, 16, 16, 64)        36928     \n",
      "                                                                 \n",
      " batch_normalization_3 (Bat  (None, 16, 16, 64)        256       \n",
      " chNormalization)                                                \n",
      "                                                                 \n",
      " max_pooling2d_49 (MaxPooli  (None, 8, 8, 64)          0         \n",
      " ng2D)                                                           \n",
      "                                                                 \n",
      " dropout_13 (Dropout)        (None, 8, 8, 64)          0         \n",
      "                                                                 \n",
      " conv2d_74 (Conv2D)          (None, 8, 8, 128)         73856     \n",
      "                                                                 \n",
      " batch_normalization_4 (Bat  (None, 8, 8, 128)         512       \n",
      " chNormalization)                                                \n",
      "                                                                 \n",
      " conv2d_75 (Conv2D)          (None, 8, 8, 128)         147584    \n",
      "                                                                 \n",
      " batch_normalization_5 (Bat  (None, 8, 8, 128)         512       \n",
      " chNormalization)                                                \n",
      "                                                                 \n",
      " max_pooling2d_50 (MaxPooli  (None, 4, 4, 128)         0         \n",
      " ng2D)                                                           \n",
      "                                                                 \n",
      " dropout_14 (Dropout)        (None, 4, 4, 128)         0         \n",
      "                                                                 \n",
      " flatten_20 (Flatten)        (None, 2048)              0         \n",
      "                                                                 \n",
      " dense_20 (Dense)            (None, 128)               262272    \n",
      "                                                                 \n",
      " dropout_15 (Dropout)        (None, 128)               0         \n",
      "                                                                 \n",
      " dense_21 (Dense)            (None, 10)                1290      \n",
      "                                                                 \n",
      "=================================================================\n",
      "Total params: 552362 (2.11 MB)\n",
      "Trainable params: 551466 (2.10 MB)\n",
      "Non-trainable params: 896 (3.50 KB)\n",
      "_________________________________________________________________\n"
     ]
    }
   ]
  },
  {
   "cell_type": "code",
   "execution_count": 171,
   "outputs": [
    {
     "output_type": "stream",
     "name": "stdout",
     "text": [
      "Epoch 1/80\n",
      "1250/1250 [==============================] - 19s 11ms/step - loss: 1.9741 - accuracy: 0.2792 - val_loss: 1.5933 - val_accuracy: 0.4172\n",
      "Epoch 2/80\n",
      "1250/1250 [==============================] - 13s 10ms/step - loss: 1.6629 - accuracy: 0.3906 - val_loss: 1.6015 - val_accuracy: 0.4481\n",
      "Epoch 3/80\n",
      "1250/1250 [==============================] - 13s 10ms/step - loss: 1.5107 - accuracy: 0.4509 - val_loss: 1.3412 - val_accuracy: 0.5106\n",
      "Epoch 4/80\n",
      "1250/1250 [==============================] - 13s 10ms/step - loss: 1.4115 - accuracy: 0.4968 - val_loss: 1.2978 - val_accuracy: 0.5547\n",
      "Epoch 5/80\n",
      "1250/1250 [==============================] - 13s 10ms/step - loss: 1.3241 - accuracy: 0.5327 - val_loss: 1.2100 - val_accuracy: 0.5805\n",
      "Epoch 6/80\n",
      "1250/1250 [==============================] - 13s 10ms/step - loss: 1.2508 - accuracy: 0.5667 - val_loss: 1.0475 - val_accuracy: 0.6430\n",
      "Epoch 7/80\n",
      "1250/1250 [==============================] - 13s 10ms/step - loss: 1.1791 - accuracy: 0.5922 - val_loss: 0.9787 - val_accuracy: 0.6618\n",
      "Epoch 8/80\n",
      "1250/1250 [==============================] - 13s 10ms/step - loss: 1.1320 - accuracy: 0.6085 - val_loss: 1.0902 - val_accuracy: 0.6473\n",
      "Epoch 9/80\n",
      "1250/1250 [==============================] - 13s 10ms/step - loss: 1.0866 - accuracy: 0.6304 - val_loss: 0.9260 - val_accuracy: 0.6823\n",
      "Epoch 10/80\n",
      "1250/1250 [==============================] - 13s 10ms/step - loss: 1.0348 - accuracy: 0.6480 - val_loss: 0.8053 - val_accuracy: 0.7236\n",
      "Epoch 11/80\n",
      "1250/1250 [==============================] - 13s 10ms/step - loss: 1.0013 - accuracy: 0.6575 - val_loss: 0.8568 - val_accuracy: 0.7111\n",
      "Epoch 12/80\n",
      "1250/1250 [==============================] - 13s 10ms/step - loss: 0.9606 - accuracy: 0.6745 - val_loss: 0.7969 - val_accuracy: 0.7327\n",
      "Epoch 13/80\n",
      "1250/1250 [==============================] - 13s 10ms/step - loss: 0.9381 - accuracy: 0.6837 - val_loss: 0.8156 - val_accuracy: 0.7264\n",
      "Epoch 14/80\n",
      "1250/1250 [==============================] - 13s 10ms/step - loss: 0.9098 - accuracy: 0.6910 - val_loss: 0.8164 - val_accuracy: 0.7200\n",
      "Epoch 15/80\n",
      "1250/1250 [==============================] - 13s 10ms/step - loss: 0.8821 - accuracy: 0.7009 - val_loss: 0.7586 - val_accuracy: 0.7498\n",
      "Epoch 16/80\n",
      "1250/1250 [==============================] - 13s 10ms/step - loss: 0.8602 - accuracy: 0.7085 - val_loss: 0.7293 - val_accuracy: 0.7551\n",
      "Epoch 17/80\n",
      "1250/1250 [==============================] - 13s 11ms/step - loss: 0.8504 - accuracy: 0.7116 - val_loss: 0.7202 - val_accuracy: 0.7540\n",
      "Epoch 18/80\n",
      "1250/1250 [==============================] - 13s 10ms/step - loss: 0.8294 - accuracy: 0.7203 - val_loss: 0.7376 - val_accuracy: 0.7505\n",
      "Epoch 19/80\n",
      "1250/1250 [==============================] - 13s 10ms/step - loss: 0.8173 - accuracy: 0.7224 - val_loss: 0.8461 - val_accuracy: 0.7229\n",
      "Epoch 20/80\n",
      "1250/1250 [==============================] - 13s 10ms/step - loss: 0.8025 - accuracy: 0.7287 - val_loss: 0.6951 - val_accuracy: 0.7710\n",
      "Epoch 21/80\n",
      "1250/1250 [==============================] - 13s 10ms/step - loss: 0.7822 - accuracy: 0.7364 - val_loss: 0.6828 - val_accuracy: 0.7715\n",
      "Epoch 22/80\n",
      "1250/1250 [==============================] - 13s 11ms/step - loss: 0.7773 - accuracy: 0.7373 - val_loss: 0.5996 - val_accuracy: 0.7982\n",
      "Epoch 23/80\n",
      "1250/1250 [==============================] - 13s 10ms/step - loss: 0.7606 - accuracy: 0.7422 - val_loss: 0.6201 - val_accuracy: 0.7923\n",
      "Epoch 24/80\n",
      "1250/1250 [==============================] - 13s 10ms/step - loss: 0.7572 - accuracy: 0.7410 - val_loss: 0.6154 - val_accuracy: 0.7919\n",
      "Epoch 25/80\n",
      "1250/1250 [==============================] - 14s 11ms/step - loss: 0.7421 - accuracy: 0.7493 - val_loss: 0.6042 - val_accuracy: 0.7944\n",
      "Epoch 26/80\n",
      "1250/1250 [==============================] - 13s 10ms/step - loss: 0.7345 - accuracy: 0.7499 - val_loss: 0.6193 - val_accuracy: 0.7889\n",
      "Epoch 27/80\n",
      "1250/1250 [==============================] - 12s 10ms/step - loss: 0.7291 - accuracy: 0.7521 - val_loss: 0.6748 - val_accuracy: 0.7783\n",
      "Epoch 28/80\n",
      "1250/1250 [==============================] - 12s 10ms/step - loss: 0.7191 - accuracy: 0.7546 - val_loss: 0.5857 - val_accuracy: 0.7991\n",
      "Epoch 29/80\n",
      "1250/1250 [==============================] - 13s 10ms/step - loss: 0.7151 - accuracy: 0.7566 - val_loss: 0.6625 - val_accuracy: 0.7749\n",
      "Epoch 30/80\n",
      "1250/1250 [==============================] - 13s 11ms/step - loss: 0.7090 - accuracy: 0.7616 - val_loss: 0.6382 - val_accuracy: 0.7879\n",
      "Epoch 31/80\n",
      "1250/1250 [==============================] - 13s 10ms/step - loss: 0.6939 - accuracy: 0.7658 - val_loss: 0.5475 - val_accuracy: 0.8122\n",
      "Epoch 32/80\n",
      "1250/1250 [==============================] - 13s 10ms/step - loss: 0.6958 - accuracy: 0.7636 - val_loss: 0.5726 - val_accuracy: 0.8124\n",
      "Epoch 33/80\n",
      "1250/1250 [==============================] - 13s 10ms/step - loss: 0.6913 - accuracy: 0.7662 - val_loss: 0.5738 - val_accuracy: 0.8054\n",
      "Epoch 34/80\n",
      "1250/1250 [==============================] - 12s 10ms/step - loss: 0.6851 - accuracy: 0.7684 - val_loss: 0.5317 - val_accuracy: 0.8185\n",
      "Epoch 35/80\n",
      "1250/1250 [==============================] - 13s 10ms/step - loss: 0.6762 - accuracy: 0.7695 - val_loss: 0.5730 - val_accuracy: 0.8006\n",
      "Epoch 36/80\n",
      "1250/1250 [==============================] - 13s 10ms/step - loss: 0.6717 - accuracy: 0.7727 - val_loss: 0.6048 - val_accuracy: 0.7954\n",
      "Epoch 37/80\n",
      "1250/1250 [==============================] - 13s 10ms/step - loss: 0.6732 - accuracy: 0.7739 - val_loss: 0.5615 - val_accuracy: 0.8118\n",
      "Epoch 38/80\n",
      "1250/1250 [==============================] - 13s 10ms/step - loss: 0.6628 - accuracy: 0.7762 - val_loss: 0.5186 - val_accuracy: 0.8262\n",
      "Epoch 39/80\n",
      "1250/1250 [==============================] - 13s 10ms/step - loss: 0.6553 - accuracy: 0.7793 - val_loss: 0.4882 - val_accuracy: 0.8313\n",
      "Epoch 40/80\n",
      "1250/1250 [==============================] - 12s 10ms/step - loss: 0.6559 - accuracy: 0.7769 - val_loss: 0.5533 - val_accuracy: 0.8159\n",
      "Epoch 41/80\n",
      "1250/1250 [==============================] - 13s 10ms/step - loss: 0.6484 - accuracy: 0.7809 - val_loss: 0.5791 - val_accuracy: 0.8076\n",
      "Epoch 42/80\n",
      "1250/1250 [==============================] - 13s 10ms/step - loss: 0.6432 - accuracy: 0.7812 - val_loss: 0.4922 - val_accuracy: 0.8318\n",
      "Epoch 43/80\n",
      "1250/1250 [==============================] - 12s 10ms/step - loss: 0.6474 - accuracy: 0.7813 - val_loss: 0.5205 - val_accuracy: 0.8225\n",
      "Epoch 44/80\n",
      "1250/1250 [==============================] - 13s 10ms/step - loss: 0.6389 - accuracy: 0.7843 - val_loss: 0.4963 - val_accuracy: 0.8304\n",
      "Epoch 45/80\n",
      "1250/1250 [==============================] - 13s 10ms/step - loss: 0.6331 - accuracy: 0.7858 - val_loss: 0.5809 - val_accuracy: 0.8091\n",
      "Epoch 46/80\n",
      "1250/1250 [==============================] - 13s 10ms/step - loss: 0.6348 - accuracy: 0.7837 - val_loss: 0.5148 - val_accuracy: 0.8296\n",
      "Epoch 47/80\n",
      "1250/1250 [==============================] - 13s 10ms/step - loss: 0.6281 - accuracy: 0.7868 - val_loss: 0.5365 - val_accuracy: 0.8151\n",
      "Epoch 48/80\n",
      "1250/1250 [==============================] - 13s 10ms/step - loss: 0.6259 - accuracy: 0.7873 - val_loss: 0.5107 - val_accuracy: 0.8229\n",
      "Epoch 49/80\n",
      "1250/1250 [==============================] - 13s 10ms/step - loss: 0.6286 - accuracy: 0.7882 - val_loss: 0.5587 - val_accuracy: 0.8160\n"
     ]
    }
   ],
   "source": [
    "callback = keras.callbacks.EarlyStopping(monitor='val_loss', patience=10, min_delta = 0.002, restore_best_weights=True)\n",
    "\n",
    "history = model.fit(train_dataset, epochs=30, validation_data=val_dataset, callbacks=[callback])"
   ],
   "metadata": {
    "colab": {
     "base_uri": "https://localhost:8080/"
    },
    "id": "be85eb075f1d3a6c",
    "outputId": "fb515888-e114-43e5-b0a9-6e0935b49e52"
   },
   "id": "be85eb075f1d3a6c"
  },
  {
   "cell_type": "code",
   "execution_count": 172,
   "outputs": [
    {
     "output_type": "display_data",
     "data": {
      "text/plain": [
       "<Figure size 640x480 with 1 Axes>"
      ],
      "image/png": "[encoded data removed]"
     },
     "metadata": {}
    },
    {
     "output_type": "display_data",
     "data": {
      "text/plain": [
       "<Figure size 640x480 with 1 Axes>"
      ],
      "image/png": "[encoded data removed]"
     },
     "metadata": {}
    }
   ],
   "source": [
    "import matplotlib.pyplot as plt\n",
    "accuracy = history.history[\"accuracy\"]\n",
    "val_accuracy = history.history[\"val_accuracy\"]\n",
    "loss = history.history[\"loss\"]\n",
    "val_loss = history.history[\"val_loss\"]\n",
    "epochs = range(1, len(accuracy) + 1)\n",
    "plt.plot(epochs, accuracy, \"bo\", label=\"Training accuracy\")\n",
    "plt.plot(epochs, val_accuracy, \"b\", label=\"Validation accuracy\")\n",
    "plt.title(\"Training and validation accuracy\")\n",
    "plt.legend()\n",
    "plt.figure()\n",
    "plt.plot(epochs, loss, \"bo\", label=\"Training loss\")\n",
    "plt.plot(epochs, val_loss, \"b\", label=\"Validation loss\")\n",
    "plt.title(\"Training and validation loss\")\n",
    "plt.legend()\n",
    "plt.show()"
   ],
   "metadata": {
    "colab": {
     "base_uri": "https://localhost:8080/",
     "height": 887
    },
    "id": "89b4d93790d5ce85",
    "outputId": "c8e5e0bb-c9fe-47fe-83aa-e92daf0d1e73"
   },
   "id": "89b4d93790d5ce85"
  },
  {
   "cell_type": "code",
   "execution_count": 173,
   "outputs": [
    {
     "output_type": "stream",
     "name": "stdout",
     "text": [
      "313/313 [==============================] - 1s 4ms/step - loss: 0.5184 - accuracy: 0.8239\n",
      "Test accuracy: is 0.8238999843597412\n"
     ]
    }
   ],
   "source": [
    "test_loss, test_acc = model.evaluate(test_dataset)\n",
    "print(\"Test accuracy: is\", test_acc)"
   ],
   "metadata": {
    "colab": {
     "base_uri": "https://localhost:8080/"
    },
    "id": "b5045b75b971a0e7",
    "outputId": "fa41e2cc-09c2-43a2-e70e-e014717a8056"
   },
   "id": "b5045b75b971a0e7"
  }
 ],
 "metadata": {
  "kernelspec": {
   "display_name": "Python 3",
   "name": "python3"
  },
  "language_info": {
   "codemirror_mode": {
    "name": "ipython",
    "version": 2
   },
   "file_extension": ".py",
   "mimetype": "text/x-python",
   "name": "python",
   "nbconvert_exporter": "python",
   "pygments_lexer": "ipython2",
   "version": "2.7.6"
  },
  "colab": {
   "provenance": [],
   "gpuType": "T4"
  },
  "accelerator": "GPU"
 },
 "nbformat": 4,
 "nbformat_minor": 5
}
